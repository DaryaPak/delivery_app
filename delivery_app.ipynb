{
 "cells": [
  {
   "cell_type": "markdown",
   "metadata": {},
   "source": [
    "## Импорт библиотек"
   ]
  },
  {
   "cell_type": "code",
   "execution_count": 2,
   "metadata": {},
   "outputs": [],
   "source": [
    "import pandas as pd\n",
    "from scipy.stats import shapiro, mannwhitneyu\n",
    "\n",
    "import seaborn as sns\n",
    "import matplotlib.pyplot as plt"
   ]
  },
  {
   "cell_type": "markdown",
   "metadata": {},
   "source": [
    "## Настройка фона"
   ]
  },
  {
   "cell_type": "code",
   "execution_count": 3,
   "metadata": {},
   "outputs": [],
   "source": [
    "sns.set(font_scale = 1,\n",
    "        style = 'whitegrid',\n",
    "       rc = {'figure.figsize' : (10, 7)})"
   ]
  },
  {
   "cell_type": "markdown",
   "metadata": {},
   "source": [
    "## Считывание и структура данных"
   ]
  },
  {
   "cell_type": "code",
   "execution_count": 4,
   "metadata": {},
   "outputs": [],
   "source": [
    "users = pd.read_csv('/mnt/HC_Volume_18315164/home-jupyter/jupyter-d-pak/statistic/lesson 10/ab_users_data.csv')\n",
    "orders = pd.read_csv('/mnt/HC_Volume_18315164/home-jupyter/jupyter-d-pak/statistic/lesson 10/ab_orders.csv')\n",
    "products = pd.read_csv('/mnt/HC_Volume_18315164/home-jupyter/jupyter-d-pak/statistic/lesson 10/ab_products.csv')"
   ]
  },
  {
   "cell_type": "code",
   "execution_count": 5,
   "metadata": {},
   "outputs": [
    {
     "data": {
      "text/html": [
       "<div>\n",
       "<style scoped>\n",
       "    .dataframe tbody tr th:only-of-type {\n",
       "        vertical-align: middle;\n",
       "    }\n",
       "\n",
       "    .dataframe tbody tr th {\n",
       "        vertical-align: top;\n",
       "    }\n",
       "\n",
       "    .dataframe thead th {\n",
       "        text-align: right;\n",
       "    }\n",
       "</style>\n",
       "<table border=\"1\" class=\"dataframe\">\n",
       "  <thead>\n",
       "    <tr style=\"text-align: right;\">\n",
       "      <th></th>\n",
       "      <th>user_id</th>\n",
       "      <th>order_id</th>\n",
       "      <th>action</th>\n",
       "      <th>time</th>\n",
       "      <th>date</th>\n",
       "      <th>group</th>\n",
       "    </tr>\n",
       "  </thead>\n",
       "  <tbody>\n",
       "    <tr>\n",
       "      <th>0</th>\n",
       "      <td>964</td>\n",
       "      <td>1255</td>\n",
       "      <td>create_order</td>\n",
       "      <td>2022-08-26 00:00:19.000000</td>\n",
       "      <td>2022-08-26</td>\n",
       "      <td>0</td>\n",
       "    </tr>\n",
       "    <tr>\n",
       "      <th>1</th>\n",
       "      <td>965</td>\n",
       "      <td>1256</td>\n",
       "      <td>create_order</td>\n",
       "      <td>2022-08-26 00:02:21.000000</td>\n",
       "      <td>2022-08-26</td>\n",
       "      <td>1</td>\n",
       "    </tr>\n",
       "    <tr>\n",
       "      <th>2</th>\n",
       "      <td>964</td>\n",
       "      <td>1257</td>\n",
       "      <td>create_order</td>\n",
       "      <td>2022-08-26 00:02:27.000000</td>\n",
       "      <td>2022-08-26</td>\n",
       "      <td>0</td>\n",
       "    </tr>\n",
       "    <tr>\n",
       "      <th>3</th>\n",
       "      <td>966</td>\n",
       "      <td>1258</td>\n",
       "      <td>create_order</td>\n",
       "      <td>2022-08-26 00:02:56.000000</td>\n",
       "      <td>2022-08-26</td>\n",
       "      <td>0</td>\n",
       "    </tr>\n",
       "    <tr>\n",
       "      <th>4</th>\n",
       "      <td>967</td>\n",
       "      <td>1259</td>\n",
       "      <td>create_order</td>\n",
       "      <td>2022-08-26 00:03:37.000000</td>\n",
       "      <td>2022-08-26</td>\n",
       "      <td>1</td>\n",
       "    </tr>\n",
       "  </tbody>\n",
       "</table>\n",
       "</div>"
      ],
      "text/plain": [
       "   user_id  order_id        action                        time        date  \\\n",
       "0      964      1255  create_order  2022-08-26 00:00:19.000000  2022-08-26   \n",
       "1      965      1256  create_order  2022-08-26 00:02:21.000000  2022-08-26   \n",
       "2      964      1257  create_order  2022-08-26 00:02:27.000000  2022-08-26   \n",
       "3      966      1258  create_order  2022-08-26 00:02:56.000000  2022-08-26   \n",
       "4      967      1259  create_order  2022-08-26 00:03:37.000000  2022-08-26   \n",
       "\n",
       "   group  \n",
       "0      0  \n",
       "1      1  \n",
       "2      0  \n",
       "3      0  \n",
       "4      1  "
      ]
     },
     "execution_count": 5,
     "metadata": {},
     "output_type": "execute_result"
    }
   ],
   "source": [
    "users.head()"
   ]
  },
  {
   "cell_type": "code",
   "execution_count": 6,
   "metadata": {},
   "outputs": [
    {
     "data": {
      "text/plain": [
       "(4337, 6)"
      ]
     },
     "execution_count": 6,
     "metadata": {},
     "output_type": "execute_result"
    }
   ],
   "source": [
    "users.shape"
   ]
  },
  {
   "cell_type": "code",
   "execution_count": 7,
   "metadata": {},
   "outputs": [
    {
     "data": {
      "text/plain": [
       "user_id      int64\n",
       "order_id     int64\n",
       "action      object\n",
       "time        object\n",
       "date        object\n",
       "group        int64\n",
       "dtype: object"
      ]
     },
     "execution_count": 7,
     "metadata": {},
     "output_type": "execute_result"
    }
   ],
   "source": [
    "users.dtypes"
   ]
  },
  {
   "cell_type": "code",
   "execution_count": 8,
   "metadata": {},
   "outputs": [
    {
     "data": {
      "text/plain": [
       "user_id     0\n",
       "order_id    0\n",
       "action      0\n",
       "time        0\n",
       "date        0\n",
       "group       0\n",
       "dtype: int64"
      ]
     },
     "execution_count": 8,
     "metadata": {},
     "output_type": "execute_result"
    }
   ],
   "source": [
    "users.isna().sum()"
   ]
  },
  {
   "cell_type": "code",
   "execution_count": 9,
   "metadata": {},
   "outputs": [],
   "source": [
    "users.time = pd.to_datetime(users.time)\n",
    "users.date = pd.to_datetime(users.date)"
   ]
  },
  {
   "cell_type": "code",
   "execution_count": 10,
   "metadata": {},
   "outputs": [
    {
     "data": {
      "text/html": [
       "<div>\n",
       "<style scoped>\n",
       "    .dataframe tbody tr th:only-of-type {\n",
       "        vertical-align: middle;\n",
       "    }\n",
       "\n",
       "    .dataframe tbody tr th {\n",
       "        vertical-align: top;\n",
       "    }\n",
       "\n",
       "    .dataframe thead th {\n",
       "        text-align: right;\n",
       "    }\n",
       "</style>\n",
       "<table border=\"1\" class=\"dataframe\">\n",
       "  <thead>\n",
       "    <tr style=\"text-align: right;\">\n",
       "      <th></th>\n",
       "      <th>order_id</th>\n",
       "      <th>creation_time</th>\n",
       "      <th>product_ids</th>\n",
       "    </tr>\n",
       "  </thead>\n",
       "  <tbody>\n",
       "    <tr>\n",
       "      <th>0</th>\n",
       "      <td>1255</td>\n",
       "      <td>2022-08-26 00:00:19.000000</td>\n",
       "      <td>{75, 22, 53, 84}</td>\n",
       "    </tr>\n",
       "    <tr>\n",
       "      <th>1</th>\n",
       "      <td>1256</td>\n",
       "      <td>2022-08-26 00:02:21.000000</td>\n",
       "      <td>{56, 76, 39}</td>\n",
       "    </tr>\n",
       "    <tr>\n",
       "      <th>2</th>\n",
       "      <td>1257</td>\n",
       "      <td>2022-08-26 00:02:27.000000</td>\n",
       "      <td>{76, 34, 41, 38}</td>\n",
       "    </tr>\n",
       "    <tr>\n",
       "      <th>3</th>\n",
       "      <td>1258</td>\n",
       "      <td>2022-08-26 00:02:56.000000</td>\n",
       "      <td>{74, 6}</td>\n",
       "    </tr>\n",
       "    <tr>\n",
       "      <th>4</th>\n",
       "      <td>1259</td>\n",
       "      <td>2022-08-26 00:03:37.000000</td>\n",
       "      <td>{20, 45, 67, 26}</td>\n",
       "    </tr>\n",
       "  </tbody>\n",
       "</table>\n",
       "</div>"
      ],
      "text/plain": [
       "   order_id               creation_time       product_ids\n",
       "0      1255  2022-08-26 00:00:19.000000  {75, 22, 53, 84}\n",
       "1      1256  2022-08-26 00:02:21.000000      {56, 76, 39}\n",
       "2      1257  2022-08-26 00:02:27.000000  {76, 34, 41, 38}\n",
       "3      1258  2022-08-26 00:02:56.000000           {74, 6}\n",
       "4      1259  2022-08-26 00:03:37.000000  {20, 45, 67, 26}"
      ]
     },
     "execution_count": 10,
     "metadata": {},
     "output_type": "execute_result"
    }
   ],
   "source": [
    "orders.head()"
   ]
  },
  {
   "cell_type": "code",
   "execution_count": 11,
   "metadata": {},
   "outputs": [
    {
     "data": {
      "text/plain": [
       "(4123, 3)"
      ]
     },
     "execution_count": 11,
     "metadata": {},
     "output_type": "execute_result"
    }
   ],
   "source": [
    "orders.shape"
   ]
  },
  {
   "cell_type": "code",
   "execution_count": 12,
   "metadata": {},
   "outputs": [
    {
     "data": {
      "text/plain": [
       "order_id          int64\n",
       "creation_time    object\n",
       "product_ids      object\n",
       "dtype: object"
      ]
     },
     "execution_count": 12,
     "metadata": {},
     "output_type": "execute_result"
    }
   ],
   "source": [
    "orders.dtypes"
   ]
  },
  {
   "cell_type": "code",
   "execution_count": 13,
   "metadata": {},
   "outputs": [
    {
     "data": {
      "text/plain": [
       "order_id         0\n",
       "creation_time    0\n",
       "product_ids      0\n",
       "dtype: int64"
      ]
     },
     "execution_count": 13,
     "metadata": {},
     "output_type": "execute_result"
    }
   ],
   "source": [
    "orders.isna().sum()"
   ]
  },
  {
   "cell_type": "code",
   "execution_count": 14,
   "metadata": {},
   "outputs": [],
   "source": [
    "orders.creation_time = pd.to_datetime(orders.creation_time)"
   ]
  },
  {
   "cell_type": "code",
   "execution_count": 15,
   "metadata": {},
   "outputs": [
    {
     "data": {
      "text/html": [
       "<div>\n",
       "<style scoped>\n",
       "    .dataframe tbody tr th:only-of-type {\n",
       "        vertical-align: middle;\n",
       "    }\n",
       "\n",
       "    .dataframe tbody tr th {\n",
       "        vertical-align: top;\n",
       "    }\n",
       "\n",
       "    .dataframe thead th {\n",
       "        text-align: right;\n",
       "    }\n",
       "</style>\n",
       "<table border=\"1\" class=\"dataframe\">\n",
       "  <thead>\n",
       "    <tr style=\"text-align: right;\">\n",
       "      <th></th>\n",
       "      <th>product_id</th>\n",
       "      <th>name</th>\n",
       "      <th>price</th>\n",
       "    </tr>\n",
       "  </thead>\n",
       "  <tbody>\n",
       "    <tr>\n",
       "      <th>0</th>\n",
       "      <td>1</td>\n",
       "      <td>сахар</td>\n",
       "      <td>150.0</td>\n",
       "    </tr>\n",
       "    <tr>\n",
       "      <th>1</th>\n",
       "      <td>2</td>\n",
       "      <td>чай зеленый в пакетиках</td>\n",
       "      <td>50.0</td>\n",
       "    </tr>\n",
       "    <tr>\n",
       "      <th>2</th>\n",
       "      <td>3</td>\n",
       "      <td>вода негазированная</td>\n",
       "      <td>80.4</td>\n",
       "    </tr>\n",
       "    <tr>\n",
       "      <th>3</th>\n",
       "      <td>4</td>\n",
       "      <td>леденцы</td>\n",
       "      <td>45.5</td>\n",
       "    </tr>\n",
       "    <tr>\n",
       "      <th>4</th>\n",
       "      <td>5</td>\n",
       "      <td>кофе 3 в 1</td>\n",
       "      <td>15.0</td>\n",
       "    </tr>\n",
       "  </tbody>\n",
       "</table>\n",
       "</div>"
      ],
      "text/plain": [
       "   product_id                     name  price\n",
       "0           1                    сахар  150.0\n",
       "1           2  чай зеленый в пакетиках   50.0\n",
       "2           3      вода негазированная   80.4\n",
       "3           4                  леденцы   45.5\n",
       "4           5               кофе 3 в 1   15.0"
      ]
     },
     "execution_count": 15,
     "metadata": {},
     "output_type": "execute_result"
    }
   ],
   "source": [
    "products.head()"
   ]
  },
  {
   "cell_type": "code",
   "execution_count": 16,
   "metadata": {},
   "outputs": [
    {
     "data": {
      "text/plain": [
       "(87, 3)"
      ]
     },
     "execution_count": 16,
     "metadata": {},
     "output_type": "execute_result"
    }
   ],
   "source": [
    "products.shape"
   ]
  },
  {
   "cell_type": "code",
   "execution_count": 17,
   "metadata": {},
   "outputs": [
    {
     "data": {
      "text/plain": [
       "product_id      int64\n",
       "name           object\n",
       "price         float64\n",
       "dtype: object"
      ]
     },
     "execution_count": 17,
     "metadata": {},
     "output_type": "execute_result"
    }
   ],
   "source": [
    "products.dtypes"
   ]
  },
  {
   "cell_type": "markdown",
   "metadata": {},
   "source": [
    "## Выбор метрик  \n",
    "Для оценки пользы для бизнеса я буду сравнивать выручку на пользователя.  \n",
    "Для оценки пользы для юзеров - количество заказов на пользователя (если новая система работает, юзеры лучше находят необходимые товары и делают больше заказов)."
   ]
  },
  {
   "cell_type": "markdown",
   "metadata": {},
   "source": [
    "## Решение"
   ]
  },
  {
   "cell_type": "markdown",
   "metadata": {},
   "source": [
    "### 1. RPU"
   ]
  },
  {
   "cell_type": "markdown",
   "metadata": {},
   "source": [
    "Нулевая гипотеза: новая система рекомендаций не повлияла на выручку на пользователя, значимых различий между тестовой и контрольной группой нет.  \n",
    "Альтернативная гипотеза: новая система повлияла на выручку на пользователя, есть статистически значимые различия между группами."
   ]
  },
  {
   "cell_type": "markdown",
   "metadata": {},
   "source": [
    "Объединяю датафрейм с юзерами и датафрейм с заказами:"
   ]
  },
  {
   "cell_type": "code",
   "execution_count": 18,
   "metadata": {},
   "outputs": [
    {
     "data": {
      "text/html": [
       "<div>\n",
       "<style scoped>\n",
       "    .dataframe tbody tr th:only-of-type {\n",
       "        vertical-align: middle;\n",
       "    }\n",
       "\n",
       "    .dataframe tbody tr th {\n",
       "        vertical-align: top;\n",
       "    }\n",
       "\n",
       "    .dataframe thead th {\n",
       "        text-align: right;\n",
       "    }\n",
       "</style>\n",
       "<table border=\"1\" class=\"dataframe\">\n",
       "  <thead>\n",
       "    <tr style=\"text-align: right;\">\n",
       "      <th></th>\n",
       "      <th>user_id</th>\n",
       "      <th>order_id</th>\n",
       "      <th>action</th>\n",
       "      <th>time</th>\n",
       "      <th>date</th>\n",
       "      <th>group</th>\n",
       "      <th>creation_time</th>\n",
       "      <th>product_ids</th>\n",
       "    </tr>\n",
       "  </thead>\n",
       "  <tbody>\n",
       "    <tr>\n",
       "      <th>0</th>\n",
       "      <td>964</td>\n",
       "      <td>1255</td>\n",
       "      <td>create_order</td>\n",
       "      <td>2022-08-26 00:00:19.000000</td>\n",
       "      <td>2022-08-26</td>\n",
       "      <td>0</td>\n",
       "      <td>2022-08-26 00:00:19</td>\n",
       "      <td>{75, 22, 53, 84}</td>\n",
       "    </tr>\n",
       "    <tr>\n",
       "      <th>1</th>\n",
       "      <td>965</td>\n",
       "      <td>1256</td>\n",
       "      <td>create_order</td>\n",
       "      <td>2022-08-26 00:02:21.000000</td>\n",
       "      <td>2022-08-26</td>\n",
       "      <td>1</td>\n",
       "      <td>2022-08-26 00:02:21</td>\n",
       "      <td>{56, 76, 39}</td>\n",
       "    </tr>\n",
       "    <tr>\n",
       "      <th>2</th>\n",
       "      <td>964</td>\n",
       "      <td>1257</td>\n",
       "      <td>create_order</td>\n",
       "      <td>2022-08-26 00:02:27.000000</td>\n",
       "      <td>2022-08-26</td>\n",
       "      <td>0</td>\n",
       "      <td>2022-08-26 00:02:27</td>\n",
       "      <td>{76, 34, 41, 38}</td>\n",
       "    </tr>\n",
       "    <tr>\n",
       "      <th>3</th>\n",
       "      <td>966</td>\n",
       "      <td>1258</td>\n",
       "      <td>create_order</td>\n",
       "      <td>2022-08-26 00:02:56.000000</td>\n",
       "      <td>2022-08-26</td>\n",
       "      <td>0</td>\n",
       "      <td>2022-08-26 00:02:56</td>\n",
       "      <td>{74, 6}</td>\n",
       "    </tr>\n",
       "    <tr>\n",
       "      <th>4</th>\n",
       "      <td>966</td>\n",
       "      <td>1258</td>\n",
       "      <td>cancel_order</td>\n",
       "      <td>2022-08-26 00:08:25.486419</td>\n",
       "      <td>2022-08-26</td>\n",
       "      <td>0</td>\n",
       "      <td>2022-08-26 00:02:56</td>\n",
       "      <td>{74, 6}</td>\n",
       "    </tr>\n",
       "    <tr>\n",
       "      <th>...</th>\n",
       "      <td>...</td>\n",
       "      <td>...</td>\n",
       "      <td>...</td>\n",
       "      <td>...</td>\n",
       "      <td>...</td>\n",
       "      <td>...</td>\n",
       "      <td>...</td>\n",
       "      <td>...</td>\n",
       "    </tr>\n",
       "    <tr>\n",
       "      <th>4332</th>\n",
       "      <td>990</td>\n",
       "      <td>59422</td>\n",
       "      <td>create_order</td>\n",
       "      <td>2022-09-08 23:13:03.000000</td>\n",
       "      <td>2022-09-08</td>\n",
       "      <td>1</td>\n",
       "      <td>2022-09-08 23:13:03</td>\n",
       "      <td>{84, 8, 24}</td>\n",
       "    </tr>\n",
       "    <tr>\n",
       "      <th>4333</th>\n",
       "      <td>1418</td>\n",
       "      <td>59439</td>\n",
       "      <td>create_order</td>\n",
       "      <td>2022-09-08 23:18:05.000000</td>\n",
       "      <td>2022-09-08</td>\n",
       "      <td>1</td>\n",
       "      <td>2022-09-08 23:18:05</td>\n",
       "      <td>{9, 25, 75, 30, 6}</td>\n",
       "    </tr>\n",
       "    <tr>\n",
       "      <th>4334</th>\n",
       "      <td>1605</td>\n",
       "      <td>59464</td>\n",
       "      <td>create_order</td>\n",
       "      <td>2022-09-08 23:22:27.000000</td>\n",
       "      <td>2022-09-08</td>\n",
       "      <td>0</td>\n",
       "      <td>2022-09-08 23:22:27</td>\n",
       "      <td>{60, 41, 46}</td>\n",
       "    </tr>\n",
       "    <tr>\n",
       "      <th>4335</th>\n",
       "      <td>1461</td>\n",
       "      <td>59487</td>\n",
       "      <td>create_order</td>\n",
       "      <td>2022-09-08 23:29:06.000000</td>\n",
       "      <td>2022-09-08</td>\n",
       "      <td>0</td>\n",
       "      <td>2022-09-08 23:29:06</td>\n",
       "      <td>{9, 62, 77}</td>\n",
       "    </tr>\n",
       "    <tr>\n",
       "      <th>4336</th>\n",
       "      <td>1376</td>\n",
       "      <td>59533</td>\n",
       "      <td>create_order</td>\n",
       "      <td>2022-09-08 23:41:24.000000</td>\n",
       "      <td>2022-09-08</td>\n",
       "      <td>0</td>\n",
       "      <td>2022-09-08 23:41:24</td>\n",
       "      <td>{17, 85}</td>\n",
       "    </tr>\n",
       "  </tbody>\n",
       "</table>\n",
       "<p>4337 rows × 8 columns</p>\n",
       "</div>"
      ],
      "text/plain": [
       "      user_id  order_id        action                       time       date  \\\n",
       "0         964      1255  create_order 2022-08-26 00:00:19.000000 2022-08-26   \n",
       "1         965      1256  create_order 2022-08-26 00:02:21.000000 2022-08-26   \n",
       "2         964      1257  create_order 2022-08-26 00:02:27.000000 2022-08-26   \n",
       "3         966      1258  create_order 2022-08-26 00:02:56.000000 2022-08-26   \n",
       "4         966      1258  cancel_order 2022-08-26 00:08:25.486419 2022-08-26   \n",
       "...       ...       ...           ...                        ...        ...   \n",
       "4332      990     59422  create_order 2022-09-08 23:13:03.000000 2022-09-08   \n",
       "4333     1418     59439  create_order 2022-09-08 23:18:05.000000 2022-09-08   \n",
       "4334     1605     59464  create_order 2022-09-08 23:22:27.000000 2022-09-08   \n",
       "4335     1461     59487  create_order 2022-09-08 23:29:06.000000 2022-09-08   \n",
       "4336     1376     59533  create_order 2022-09-08 23:41:24.000000 2022-09-08   \n",
       "\n",
       "      group       creation_time         product_ids  \n",
       "0         0 2022-08-26 00:00:19    {75, 22, 53, 84}  \n",
       "1         1 2022-08-26 00:02:21        {56, 76, 39}  \n",
       "2         0 2022-08-26 00:02:27    {76, 34, 41, 38}  \n",
       "3         0 2022-08-26 00:02:56             {74, 6}  \n",
       "4         0 2022-08-26 00:02:56             {74, 6}  \n",
       "...     ...                 ...                 ...  \n",
       "4332      1 2022-09-08 23:13:03         {84, 8, 24}  \n",
       "4333      1 2022-09-08 23:18:05  {9, 25, 75, 30, 6}  \n",
       "4334      0 2022-09-08 23:22:27        {60, 41, 46}  \n",
       "4335      0 2022-09-08 23:29:06         {9, 62, 77}  \n",
       "4336      0 2022-09-08 23:41:24            {17, 85}  \n",
       "\n",
       "[4337 rows x 8 columns]"
      ]
     },
     "execution_count": 18,
     "metadata": {},
     "output_type": "execute_result"
    }
   ],
   "source": [
    "df = users.merge(orders, on='order_id')\n",
    "df"
   ]
  },
  {
   "cell_type": "markdown",
   "metadata": {},
   "source": [
    "Убираю лишнюю колонку с временем:"
   ]
  },
  {
   "cell_type": "code",
   "execution_count": 19,
   "metadata": {},
   "outputs": [],
   "source": [
    "df = df.drop(columns={'time'})"
   ]
  },
  {
   "cell_type": "code",
   "execution_count": 20,
   "metadata": {},
   "outputs": [
    {
     "data": {
      "text/html": [
       "<div>\n",
       "<style scoped>\n",
       "    .dataframe tbody tr th:only-of-type {\n",
       "        vertical-align: middle;\n",
       "    }\n",
       "\n",
       "    .dataframe tbody tr th {\n",
       "        vertical-align: top;\n",
       "    }\n",
       "\n",
       "    .dataframe thead th {\n",
       "        text-align: right;\n",
       "    }\n",
       "</style>\n",
       "<table border=\"1\" class=\"dataframe\">\n",
       "  <thead>\n",
       "    <tr style=\"text-align: right;\">\n",
       "      <th></th>\n",
       "      <th>user_id</th>\n",
       "      <th>order_id</th>\n",
       "      <th>action</th>\n",
       "      <th>date</th>\n",
       "      <th>group</th>\n",
       "      <th>creation_time</th>\n",
       "      <th>product_ids</th>\n",
       "    </tr>\n",
       "  </thead>\n",
       "  <tbody>\n",
       "    <tr>\n",
       "      <th>0</th>\n",
       "      <td>964</td>\n",
       "      <td>1255</td>\n",
       "      <td>create_order</td>\n",
       "      <td>2022-08-26</td>\n",
       "      <td>0</td>\n",
       "      <td>2022-08-26 00:00:19</td>\n",
       "      <td>{75, 22, 53, 84}</td>\n",
       "    </tr>\n",
       "    <tr>\n",
       "      <th>1</th>\n",
       "      <td>965</td>\n",
       "      <td>1256</td>\n",
       "      <td>create_order</td>\n",
       "      <td>2022-08-26</td>\n",
       "      <td>1</td>\n",
       "      <td>2022-08-26 00:02:21</td>\n",
       "      <td>{56, 76, 39}</td>\n",
       "    </tr>\n",
       "    <tr>\n",
       "      <th>2</th>\n",
       "      <td>964</td>\n",
       "      <td>1257</td>\n",
       "      <td>create_order</td>\n",
       "      <td>2022-08-26</td>\n",
       "      <td>0</td>\n",
       "      <td>2022-08-26 00:02:27</td>\n",
       "      <td>{76, 34, 41, 38}</td>\n",
       "    </tr>\n",
       "    <tr>\n",
       "      <th>3</th>\n",
       "      <td>966</td>\n",
       "      <td>1258</td>\n",
       "      <td>create_order</td>\n",
       "      <td>2022-08-26</td>\n",
       "      <td>0</td>\n",
       "      <td>2022-08-26 00:02:56</td>\n",
       "      <td>{74, 6}</td>\n",
       "    </tr>\n",
       "    <tr>\n",
       "      <th>5</th>\n",
       "      <td>967</td>\n",
       "      <td>1259</td>\n",
       "      <td>create_order</td>\n",
       "      <td>2022-08-26</td>\n",
       "      <td>1</td>\n",
       "      <td>2022-08-26 00:03:37</td>\n",
       "      <td>{20, 45, 67, 26}</td>\n",
       "    </tr>\n",
       "    <tr>\n",
       "      <th>...</th>\n",
       "      <td>...</td>\n",
       "      <td>...</td>\n",
       "      <td>...</td>\n",
       "      <td>...</td>\n",
       "      <td>...</td>\n",
       "      <td>...</td>\n",
       "      <td>...</td>\n",
       "    </tr>\n",
       "    <tr>\n",
       "      <th>4332</th>\n",
       "      <td>990</td>\n",
       "      <td>59422</td>\n",
       "      <td>create_order</td>\n",
       "      <td>2022-09-08</td>\n",
       "      <td>1</td>\n",
       "      <td>2022-09-08 23:13:03</td>\n",
       "      <td>{84, 8, 24}</td>\n",
       "    </tr>\n",
       "    <tr>\n",
       "      <th>4333</th>\n",
       "      <td>1418</td>\n",
       "      <td>59439</td>\n",
       "      <td>create_order</td>\n",
       "      <td>2022-09-08</td>\n",
       "      <td>1</td>\n",
       "      <td>2022-09-08 23:18:05</td>\n",
       "      <td>{9, 25, 75, 30, 6}</td>\n",
       "    </tr>\n",
       "    <tr>\n",
       "      <th>4334</th>\n",
       "      <td>1605</td>\n",
       "      <td>59464</td>\n",
       "      <td>create_order</td>\n",
       "      <td>2022-09-08</td>\n",
       "      <td>0</td>\n",
       "      <td>2022-09-08 23:22:27</td>\n",
       "      <td>{60, 41, 46}</td>\n",
       "    </tr>\n",
       "    <tr>\n",
       "      <th>4335</th>\n",
       "      <td>1461</td>\n",
       "      <td>59487</td>\n",
       "      <td>create_order</td>\n",
       "      <td>2022-09-08</td>\n",
       "      <td>0</td>\n",
       "      <td>2022-09-08 23:29:06</td>\n",
       "      <td>{9, 62, 77}</td>\n",
       "    </tr>\n",
       "    <tr>\n",
       "      <th>4336</th>\n",
       "      <td>1376</td>\n",
       "      <td>59533</td>\n",
       "      <td>create_order</td>\n",
       "      <td>2022-09-08</td>\n",
       "      <td>0</td>\n",
       "      <td>2022-09-08 23:41:24</td>\n",
       "      <td>{17, 85}</td>\n",
       "    </tr>\n",
       "  </tbody>\n",
       "</table>\n",
       "<p>4123 rows × 7 columns</p>\n",
       "</div>"
      ],
      "text/plain": [
       "      user_id  order_id        action       date  group       creation_time  \\\n",
       "0         964      1255  create_order 2022-08-26      0 2022-08-26 00:00:19   \n",
       "1         965      1256  create_order 2022-08-26      1 2022-08-26 00:02:21   \n",
       "2         964      1257  create_order 2022-08-26      0 2022-08-26 00:02:27   \n",
       "3         966      1258  create_order 2022-08-26      0 2022-08-26 00:02:56   \n",
       "5         967      1259  create_order 2022-08-26      1 2022-08-26 00:03:37   \n",
       "...       ...       ...           ...        ...    ...                 ...   \n",
       "4332      990     59422  create_order 2022-09-08      1 2022-09-08 23:13:03   \n",
       "4333     1418     59439  create_order 2022-09-08      1 2022-09-08 23:18:05   \n",
       "4334     1605     59464  create_order 2022-09-08      0 2022-09-08 23:22:27   \n",
       "4335     1461     59487  create_order 2022-09-08      0 2022-09-08 23:29:06   \n",
       "4336     1376     59533  create_order 2022-09-08      0 2022-09-08 23:41:24   \n",
       "\n",
       "             product_ids  \n",
       "0       {75, 22, 53, 84}  \n",
       "1           {56, 76, 39}  \n",
       "2       {76, 34, 41, 38}  \n",
       "3                {74, 6}  \n",
       "5       {20, 45, 67, 26}  \n",
       "...                  ...  \n",
       "4332         {84, 8, 24}  \n",
       "4333  {9, 25, 75, 30, 6}  \n",
       "4334        {60, 41, 46}  \n",
       "4335         {9, 62, 77}  \n",
       "4336            {17, 85}  \n",
       "\n",
       "[4123 rows x 7 columns]"
      ]
     },
     "execution_count": 20,
     "metadata": {},
     "output_type": "execute_result"
    }
   ],
   "source": [
    "df = df.query('action != \"cancel_order\"')\n",
    "df"
   ]
  },
  {
   "cell_type": "markdown",
   "metadata": {},
   "source": [
    "Переименовываю переменные для удобства:"
   ]
  },
  {
   "cell_type": "code",
   "execution_count": 21,
   "metadata": {},
   "outputs": [],
   "source": [
    "df.group = df.group.apply(lambda x: 'control' if x == 0 else 'experimental')"
   ]
  },
  {
   "cell_type": "markdown",
   "metadata": {},
   "source": [
    "Разбиваю строку с id заказанных продуктов, создаю список:"
   ]
  },
  {
   "cell_type": "code",
   "execution_count": 22,
   "metadata": {},
   "outputs": [
    {
     "data": {
      "text/html": [
       "<div>\n",
       "<style scoped>\n",
       "    .dataframe tbody tr th:only-of-type {\n",
       "        vertical-align: middle;\n",
       "    }\n",
       "\n",
       "    .dataframe tbody tr th {\n",
       "        vertical-align: top;\n",
       "    }\n",
       "\n",
       "    .dataframe thead th {\n",
       "        text-align: right;\n",
       "    }\n",
       "</style>\n",
       "<table border=\"1\" class=\"dataframe\">\n",
       "  <thead>\n",
       "    <tr style=\"text-align: right;\">\n",
       "      <th></th>\n",
       "      <th>user_id</th>\n",
       "      <th>order_id</th>\n",
       "      <th>action</th>\n",
       "      <th>date</th>\n",
       "      <th>group</th>\n",
       "      <th>creation_time</th>\n",
       "      <th>product_ids</th>\n",
       "    </tr>\n",
       "  </thead>\n",
       "  <tbody>\n",
       "    <tr>\n",
       "      <th>0</th>\n",
       "      <td>964</td>\n",
       "      <td>1255</td>\n",
       "      <td>create_order</td>\n",
       "      <td>2022-08-26</td>\n",
       "      <td>control</td>\n",
       "      <td>2022-08-26 00:00:19</td>\n",
       "      <td>[75, 22, 53, 84]</td>\n",
       "    </tr>\n",
       "    <tr>\n",
       "      <th>1</th>\n",
       "      <td>965</td>\n",
       "      <td>1256</td>\n",
       "      <td>create_order</td>\n",
       "      <td>2022-08-26</td>\n",
       "      <td>experimental</td>\n",
       "      <td>2022-08-26 00:02:21</td>\n",
       "      <td>[56, 76, 39]</td>\n",
       "    </tr>\n",
       "    <tr>\n",
       "      <th>2</th>\n",
       "      <td>964</td>\n",
       "      <td>1257</td>\n",
       "      <td>create_order</td>\n",
       "      <td>2022-08-26</td>\n",
       "      <td>control</td>\n",
       "      <td>2022-08-26 00:02:27</td>\n",
       "      <td>[76, 34, 41, 38]</td>\n",
       "    </tr>\n",
       "    <tr>\n",
       "      <th>3</th>\n",
       "      <td>966</td>\n",
       "      <td>1258</td>\n",
       "      <td>create_order</td>\n",
       "      <td>2022-08-26</td>\n",
       "      <td>control</td>\n",
       "      <td>2022-08-26 00:02:56</td>\n",
       "      <td>[74, 6]</td>\n",
       "    </tr>\n",
       "    <tr>\n",
       "      <th>5</th>\n",
       "      <td>967</td>\n",
       "      <td>1259</td>\n",
       "      <td>create_order</td>\n",
       "      <td>2022-08-26</td>\n",
       "      <td>experimental</td>\n",
       "      <td>2022-08-26 00:03:37</td>\n",
       "      <td>[20, 45, 67, 26]</td>\n",
       "    </tr>\n",
       "  </tbody>\n",
       "</table>\n",
       "</div>"
      ],
      "text/plain": [
       "   user_id  order_id        action       date         group  \\\n",
       "0      964      1255  create_order 2022-08-26       control   \n",
       "1      965      1256  create_order 2022-08-26  experimental   \n",
       "2      964      1257  create_order 2022-08-26       control   \n",
       "3      966      1258  create_order 2022-08-26       control   \n",
       "5      967      1259  create_order 2022-08-26  experimental   \n",
       "\n",
       "        creation_time       product_ids  \n",
       "0 2022-08-26 00:00:19  [75, 22, 53, 84]  \n",
       "1 2022-08-26 00:02:21      [56, 76, 39]  \n",
       "2 2022-08-26 00:02:27  [76, 34, 41, 38]  \n",
       "3 2022-08-26 00:02:56           [74, 6]  \n",
       "5 2022-08-26 00:03:37  [20, 45, 67, 26]  "
      ]
     },
     "execution_count": 22,
     "metadata": {},
     "output_type": "execute_result"
    }
   ],
   "source": [
    "df.product_ids = df.product_ids.apply(lambda x: x.replace('{', '').replace('}', '').split(', '))\n",
    "df.head()"
   ]
  },
  {
   "cell_type": "markdown",
   "metadata": {},
   "source": [
    "Для каждого элемента списка создаю отдельную строку для простоты подсчётов:"
   ]
  },
  {
   "cell_type": "code",
   "execution_count": 23,
   "metadata": {},
   "outputs": [
    {
     "data": {
      "text/html": [
       "<div>\n",
       "<style scoped>\n",
       "    .dataframe tbody tr th:only-of-type {\n",
       "        vertical-align: middle;\n",
       "    }\n",
       "\n",
       "    .dataframe tbody tr th {\n",
       "        vertical-align: top;\n",
       "    }\n",
       "\n",
       "    .dataframe thead th {\n",
       "        text-align: right;\n",
       "    }\n",
       "</style>\n",
       "<table border=\"1\" class=\"dataframe\">\n",
       "  <thead>\n",
       "    <tr style=\"text-align: right;\">\n",
       "      <th></th>\n",
       "      <th>user_id</th>\n",
       "      <th>order_id</th>\n",
       "      <th>action</th>\n",
       "      <th>date</th>\n",
       "      <th>group</th>\n",
       "      <th>creation_time</th>\n",
       "      <th>product_ids</th>\n",
       "    </tr>\n",
       "  </thead>\n",
       "  <tbody>\n",
       "    <tr>\n",
       "      <th>0</th>\n",
       "      <td>964</td>\n",
       "      <td>1255</td>\n",
       "      <td>create_order</td>\n",
       "      <td>2022-08-26</td>\n",
       "      <td>control</td>\n",
       "      <td>2022-08-26 00:00:19</td>\n",
       "      <td>75</td>\n",
       "    </tr>\n",
       "    <tr>\n",
       "      <th>0</th>\n",
       "      <td>964</td>\n",
       "      <td>1255</td>\n",
       "      <td>create_order</td>\n",
       "      <td>2022-08-26</td>\n",
       "      <td>control</td>\n",
       "      <td>2022-08-26 00:00:19</td>\n",
       "      <td>22</td>\n",
       "    </tr>\n",
       "    <tr>\n",
       "      <th>0</th>\n",
       "      <td>964</td>\n",
       "      <td>1255</td>\n",
       "      <td>create_order</td>\n",
       "      <td>2022-08-26</td>\n",
       "      <td>control</td>\n",
       "      <td>2022-08-26 00:00:19</td>\n",
       "      <td>53</td>\n",
       "    </tr>\n",
       "    <tr>\n",
       "      <th>0</th>\n",
       "      <td>964</td>\n",
       "      <td>1255</td>\n",
       "      <td>create_order</td>\n",
       "      <td>2022-08-26</td>\n",
       "      <td>control</td>\n",
       "      <td>2022-08-26 00:00:19</td>\n",
       "      <td>84</td>\n",
       "    </tr>\n",
       "    <tr>\n",
       "      <th>1</th>\n",
       "      <td>965</td>\n",
       "      <td>1256</td>\n",
       "      <td>create_order</td>\n",
       "      <td>2022-08-26</td>\n",
       "      <td>experimental</td>\n",
       "      <td>2022-08-26 00:02:21</td>\n",
       "      <td>56</td>\n",
       "    </tr>\n",
       "    <tr>\n",
       "      <th>...</th>\n",
       "      <td>...</td>\n",
       "      <td>...</td>\n",
       "      <td>...</td>\n",
       "      <td>...</td>\n",
       "      <td>...</td>\n",
       "      <td>...</td>\n",
       "      <td>...</td>\n",
       "    </tr>\n",
       "    <tr>\n",
       "      <th>4335</th>\n",
       "      <td>1461</td>\n",
       "      <td>59487</td>\n",
       "      <td>create_order</td>\n",
       "      <td>2022-09-08</td>\n",
       "      <td>control</td>\n",
       "      <td>2022-09-08 23:29:06</td>\n",
       "      <td>9</td>\n",
       "    </tr>\n",
       "    <tr>\n",
       "      <th>4335</th>\n",
       "      <td>1461</td>\n",
       "      <td>59487</td>\n",
       "      <td>create_order</td>\n",
       "      <td>2022-09-08</td>\n",
       "      <td>control</td>\n",
       "      <td>2022-09-08 23:29:06</td>\n",
       "      <td>62</td>\n",
       "    </tr>\n",
       "    <tr>\n",
       "      <th>4335</th>\n",
       "      <td>1461</td>\n",
       "      <td>59487</td>\n",
       "      <td>create_order</td>\n",
       "      <td>2022-09-08</td>\n",
       "      <td>control</td>\n",
       "      <td>2022-09-08 23:29:06</td>\n",
       "      <td>77</td>\n",
       "    </tr>\n",
       "    <tr>\n",
       "      <th>4336</th>\n",
       "      <td>1376</td>\n",
       "      <td>59533</td>\n",
       "      <td>create_order</td>\n",
       "      <td>2022-09-08</td>\n",
       "      <td>control</td>\n",
       "      <td>2022-09-08 23:41:24</td>\n",
       "      <td>17</td>\n",
       "    </tr>\n",
       "    <tr>\n",
       "      <th>4336</th>\n",
       "      <td>1376</td>\n",
       "      <td>59533</td>\n",
       "      <td>create_order</td>\n",
       "      <td>2022-09-08</td>\n",
       "      <td>control</td>\n",
       "      <td>2022-09-08 23:41:24</td>\n",
       "      <td>85</td>\n",
       "    </tr>\n",
       "  </tbody>\n",
       "</table>\n",
       "<p>13826 rows × 7 columns</p>\n",
       "</div>"
      ],
      "text/plain": [
       "      user_id  order_id        action       date         group  \\\n",
       "0         964      1255  create_order 2022-08-26       control   \n",
       "0         964      1255  create_order 2022-08-26       control   \n",
       "0         964      1255  create_order 2022-08-26       control   \n",
       "0         964      1255  create_order 2022-08-26       control   \n",
       "1         965      1256  create_order 2022-08-26  experimental   \n",
       "...       ...       ...           ...        ...           ...   \n",
       "4335     1461     59487  create_order 2022-09-08       control   \n",
       "4335     1461     59487  create_order 2022-09-08       control   \n",
       "4335     1461     59487  create_order 2022-09-08       control   \n",
       "4336     1376     59533  create_order 2022-09-08       control   \n",
       "4336     1376     59533  create_order 2022-09-08       control   \n",
       "\n",
       "           creation_time product_ids  \n",
       "0    2022-08-26 00:00:19          75  \n",
       "0    2022-08-26 00:00:19          22  \n",
       "0    2022-08-26 00:00:19          53  \n",
       "0    2022-08-26 00:00:19          84  \n",
       "1    2022-08-26 00:02:21          56  \n",
       "...                  ...         ...  \n",
       "4335 2022-09-08 23:29:06           9  \n",
       "4335 2022-09-08 23:29:06          62  \n",
       "4335 2022-09-08 23:29:06          77  \n",
       "4336 2022-09-08 23:41:24          17  \n",
       "4336 2022-09-08 23:41:24          85  \n",
       "\n",
       "[13826 rows x 7 columns]"
      ]
     },
     "execution_count": 23,
     "metadata": {},
     "output_type": "execute_result"
    }
   ],
   "source": [
    "df_explode = df.explode('product_ids')\n",
    "df_explode"
   ]
  },
  {
   "cell_type": "markdown",
   "metadata": {},
   "source": [
    "Подготавливаю датафрейм к объединению, в датафрейме с продуктами меняю тип колонки, чтобы корректно смерджить:"
   ]
  },
  {
   "cell_type": "code",
   "execution_count": 24,
   "metadata": {},
   "outputs": [],
   "source": [
    "df_explode = df_explode.rename(columns = {'product_ids':'product_id'})"
   ]
  },
  {
   "cell_type": "code",
   "execution_count": 25,
   "metadata": {},
   "outputs": [],
   "source": [
    "df_explode.product_id = df_explode.product_id.astype(int)"
   ]
  },
  {
   "cell_type": "code",
   "execution_count": 26,
   "metadata": {},
   "outputs": [
    {
     "data": {
      "text/html": [
       "<div>\n",
       "<style scoped>\n",
       "    .dataframe tbody tr th:only-of-type {\n",
       "        vertical-align: middle;\n",
       "    }\n",
       "\n",
       "    .dataframe tbody tr th {\n",
       "        vertical-align: top;\n",
       "    }\n",
       "\n",
       "    .dataframe thead th {\n",
       "        text-align: right;\n",
       "    }\n",
       "</style>\n",
       "<table border=\"1\" class=\"dataframe\">\n",
       "  <thead>\n",
       "    <tr style=\"text-align: right;\">\n",
       "      <th></th>\n",
       "      <th>user_id</th>\n",
       "      <th>order_id</th>\n",
       "      <th>action</th>\n",
       "      <th>date</th>\n",
       "      <th>group</th>\n",
       "      <th>creation_time</th>\n",
       "      <th>product_id</th>\n",
       "      <th>name</th>\n",
       "      <th>price</th>\n",
       "    </tr>\n",
       "  </thead>\n",
       "  <tbody>\n",
       "    <tr>\n",
       "      <th>0</th>\n",
       "      <td>964</td>\n",
       "      <td>1255</td>\n",
       "      <td>create_order</td>\n",
       "      <td>2022-08-26</td>\n",
       "      <td>control</td>\n",
       "      <td>2022-08-26 00:00:19</td>\n",
       "      <td>75</td>\n",
       "      <td>сок ананасовый</td>\n",
       "      <td>120.0</td>\n",
       "    </tr>\n",
       "    <tr>\n",
       "      <th>1</th>\n",
       "      <td>987</td>\n",
       "      <td>1287</td>\n",
       "      <td>create_order</td>\n",
       "      <td>2022-08-26</td>\n",
       "      <td>control</td>\n",
       "      <td>2022-08-26 00:31:36</td>\n",
       "      <td>75</td>\n",
       "      <td>сок ананасовый</td>\n",
       "      <td>120.0</td>\n",
       "    </tr>\n",
       "    <tr>\n",
       "      <th>2</th>\n",
       "      <td>1073</td>\n",
       "      <td>1403</td>\n",
       "      <td>create_order</td>\n",
       "      <td>2022-08-26</td>\n",
       "      <td>experimental</td>\n",
       "      <td>2022-08-26 03:01:40</td>\n",
       "      <td>75</td>\n",
       "      <td>сок ананасовый</td>\n",
       "      <td>120.0</td>\n",
       "    </tr>\n",
       "    <tr>\n",
       "      <th>3</th>\n",
       "      <td>1089</td>\n",
       "      <td>1424</td>\n",
       "      <td>create_order</td>\n",
       "      <td>2022-08-26</td>\n",
       "      <td>experimental</td>\n",
       "      <td>2022-08-26 04:01:22</td>\n",
       "      <td>75</td>\n",
       "      <td>сок ананасовый</td>\n",
       "      <td>120.0</td>\n",
       "    </tr>\n",
       "    <tr>\n",
       "      <th>4</th>\n",
       "      <td>1139</td>\n",
       "      <td>1495</td>\n",
       "      <td>create_order</td>\n",
       "      <td>2022-08-26</td>\n",
       "      <td>experimental</td>\n",
       "      <td>2022-08-26 06:04:05</td>\n",
       "      <td>75</td>\n",
       "      <td>сок ананасовый</td>\n",
       "      <td>120.0</td>\n",
       "    </tr>\n",
       "    <tr>\n",
       "      <th>...</th>\n",
       "      <td>...</td>\n",
       "      <td>...</td>\n",
       "      <td>...</td>\n",
       "      <td>...</td>\n",
       "      <td>...</td>\n",
       "      <td>...</td>\n",
       "      <td>...</td>\n",
       "      <td>...</td>\n",
       "      <td>...</td>\n",
       "    </tr>\n",
       "    <tr>\n",
       "      <th>13821</th>\n",
       "      <td>1883</td>\n",
       "      <td>33910</td>\n",
       "      <td>create_order</td>\n",
       "      <td>2022-09-03</td>\n",
       "      <td>experimental</td>\n",
       "      <td>2022-09-03 23:46:53</td>\n",
       "      <td>11</td>\n",
       "      <td>масло льняное</td>\n",
       "      <td>200.0</td>\n",
       "    </tr>\n",
       "    <tr>\n",
       "      <th>13822</th>\n",
       "      <td>1440</td>\n",
       "      <td>34742</td>\n",
       "      <td>create_order</td>\n",
       "      <td>2022-09-04</td>\n",
       "      <td>control</td>\n",
       "      <td>2022-09-04 03:41:52</td>\n",
       "      <td>11</td>\n",
       "      <td>масло льняное</td>\n",
       "      <td>200.0</td>\n",
       "    </tr>\n",
       "    <tr>\n",
       "      <th>13823</th>\n",
       "      <td>1813</td>\n",
       "      <td>41998</td>\n",
       "      <td>create_order</td>\n",
       "      <td>2022-09-05</td>\n",
       "      <td>experimental</td>\n",
       "      <td>2022-09-05 10:26:46</td>\n",
       "      <td>11</td>\n",
       "      <td>масло льняное</td>\n",
       "      <td>200.0</td>\n",
       "    </tr>\n",
       "    <tr>\n",
       "      <th>13824</th>\n",
       "      <td>1175</td>\n",
       "      <td>53851</td>\n",
       "      <td>create_order</td>\n",
       "      <td>2022-09-07</td>\n",
       "      <td>control</td>\n",
       "      <td>2022-09-07 23:53:54</td>\n",
       "      <td>11</td>\n",
       "      <td>масло льняное</td>\n",
       "      <td>200.0</td>\n",
       "    </tr>\n",
       "    <tr>\n",
       "      <th>13825</th>\n",
       "      <td>1829</td>\n",
       "      <td>57283</td>\n",
       "      <td>create_order</td>\n",
       "      <td>2022-09-08</td>\n",
       "      <td>experimental</td>\n",
       "      <td>2022-09-08 16:06:17</td>\n",
       "      <td>11</td>\n",
       "      <td>масло льняное</td>\n",
       "      <td>200.0</td>\n",
       "    </tr>\n",
       "  </tbody>\n",
       "</table>\n",
       "<p>13826 rows × 9 columns</p>\n",
       "</div>"
      ],
      "text/plain": [
       "       user_id  order_id        action       date         group  \\\n",
       "0          964      1255  create_order 2022-08-26       control   \n",
       "1          987      1287  create_order 2022-08-26       control   \n",
       "2         1073      1403  create_order 2022-08-26  experimental   \n",
       "3         1089      1424  create_order 2022-08-26  experimental   \n",
       "4         1139      1495  create_order 2022-08-26  experimental   \n",
       "...        ...       ...           ...        ...           ...   \n",
       "13821     1883     33910  create_order 2022-09-03  experimental   \n",
       "13822     1440     34742  create_order 2022-09-04       control   \n",
       "13823     1813     41998  create_order 2022-09-05  experimental   \n",
       "13824     1175     53851  create_order 2022-09-07       control   \n",
       "13825     1829     57283  create_order 2022-09-08  experimental   \n",
       "\n",
       "            creation_time  product_id            name  price  \n",
       "0     2022-08-26 00:00:19          75  сок ананасовый  120.0  \n",
       "1     2022-08-26 00:31:36          75  сок ананасовый  120.0  \n",
       "2     2022-08-26 03:01:40          75  сок ананасовый  120.0  \n",
       "3     2022-08-26 04:01:22          75  сок ананасовый  120.0  \n",
       "4     2022-08-26 06:04:05          75  сок ананасовый  120.0  \n",
       "...                   ...         ...             ...    ...  \n",
       "13821 2022-09-03 23:46:53          11   масло льняное  200.0  \n",
       "13822 2022-09-04 03:41:52          11   масло льняное  200.0  \n",
       "13823 2022-09-05 10:26:46          11   масло льняное  200.0  \n",
       "13824 2022-09-07 23:53:54          11   масло льняное  200.0  \n",
       "13825 2022-09-08 16:06:17          11   масло льняное  200.0  \n",
       "\n",
       "[13826 rows x 9 columns]"
      ]
     },
     "execution_count": 26,
     "metadata": {},
     "output_type": "execute_result"
    }
   ],
   "source": [
    "df_explode = df_explode.merge(products, on='product_id')\n",
    "df_explode"
   ]
  },
  {
   "cell_type": "markdown",
   "metadata": {},
   "source": [
    "Создаю датафрейм с выручкой по каждому юзеру. Для дальнейших тестов в группировку также беру группу, к которой он принадлежит:"
   ]
  },
  {
   "cell_type": "code",
   "execution_count": 32,
   "metadata": {},
   "outputs": [
    {
     "data": {
      "text/html": [
       "<div>\n",
       "<style scoped>\n",
       "    .dataframe tbody tr th:only-of-type {\n",
       "        vertical-align: middle;\n",
       "    }\n",
       "\n",
       "    .dataframe tbody tr th {\n",
       "        vertical-align: top;\n",
       "    }\n",
       "\n",
       "    .dataframe thead th {\n",
       "        text-align: right;\n",
       "    }\n",
       "</style>\n",
       "<table border=\"1\" class=\"dataframe\">\n",
       "  <thead>\n",
       "    <tr style=\"text-align: right;\">\n",
       "      <th></th>\n",
       "      <th>user_id</th>\n",
       "      <th>group</th>\n",
       "      <th>summ</th>\n",
       "    </tr>\n",
       "  </thead>\n",
       "  <tbody>\n",
       "    <tr>\n",
       "      <th>0</th>\n",
       "      <td>964</td>\n",
       "      <td>control</td>\n",
       "      <td>718.9</td>\n",
       "    </tr>\n",
       "    <tr>\n",
       "      <th>1</th>\n",
       "      <td>965</td>\n",
       "      <td>experimental</td>\n",
       "      <td>4155.5</td>\n",
       "    </tr>\n",
       "    <tr>\n",
       "      <th>2</th>\n",
       "      <td>966</td>\n",
       "      <td>control</td>\n",
       "      <td>85.0</td>\n",
       "    </tr>\n",
       "    <tr>\n",
       "      <th>3</th>\n",
       "      <td>967</td>\n",
       "      <td>experimental</td>\n",
       "      <td>1137.4</td>\n",
       "    </tr>\n",
       "    <tr>\n",
       "      <th>4</th>\n",
       "      <td>968</td>\n",
       "      <td>control</td>\n",
       "      <td>1590.7</td>\n",
       "    </tr>\n",
       "    <tr>\n",
       "      <th>...</th>\n",
       "      <td>...</td>\n",
       "      <td>...</td>\n",
       "      <td>...</td>\n",
       "    </tr>\n",
       "    <tr>\n",
       "      <th>1012</th>\n",
       "      <td>1976</td>\n",
       "      <td>experimental</td>\n",
       "      <td>2001.9</td>\n",
       "    </tr>\n",
       "    <tr>\n",
       "      <th>1013</th>\n",
       "      <td>1977</td>\n",
       "      <td>experimental</td>\n",
       "      <td>781.2</td>\n",
       "    </tr>\n",
       "    <tr>\n",
       "      <th>1014</th>\n",
       "      <td>1978</td>\n",
       "      <td>experimental</td>\n",
       "      <td>2766.6</td>\n",
       "    </tr>\n",
       "    <tr>\n",
       "      <th>1015</th>\n",
       "      <td>1979</td>\n",
       "      <td>experimental</td>\n",
       "      <td>2348.9</td>\n",
       "    </tr>\n",
       "    <tr>\n",
       "      <th>1016</th>\n",
       "      <td>1980</td>\n",
       "      <td>experimental</td>\n",
       "      <td>2475.9</td>\n",
       "    </tr>\n",
       "  </tbody>\n",
       "</table>\n",
       "<p>1017 rows × 3 columns</p>\n",
       "</div>"
      ],
      "text/plain": [
       "      user_id         group    summ\n",
       "0         964       control   718.9\n",
       "1         965  experimental  4155.5\n",
       "2         966       control    85.0\n",
       "3         967  experimental  1137.4\n",
       "4         968       control  1590.7\n",
       "...       ...           ...     ...\n",
       "1012     1976  experimental  2001.9\n",
       "1013     1977  experimental   781.2\n",
       "1014     1978  experimental  2766.6\n",
       "1015     1979  experimental  2348.9\n",
       "1016     1980  experimental  2475.9\n",
       "\n",
       "[1017 rows x 3 columns]"
      ]
     },
     "execution_count": 32,
     "metadata": {},
     "output_type": "execute_result"
    }
   ],
   "source": [
    "rpu = df_explode \\\n",
    ".groupby(['user_id', 'group'], as_index = False) \\\n",
    ".agg({'price': 'sum'}) \\\n",
    ".rename(columns={'price': 'summ'})\n",
    "rpu"
   ]
  },
  {
   "cell_type": "markdown",
   "metadata": {},
   "source": [
    "Смотрю на распределение выручки:"
   ]
  },
  {
   "cell_type": "code",
   "execution_count": 33,
   "metadata": {},
   "outputs": [
    {
     "data": {
      "text/plain": [
       "Text(0, 0.5, 'Количество пользователей')"
      ]
     },
     "execution_count": 33,
     "metadata": {},
     "output_type": "execute_result"
    },
    {
     "data": {
      "image/png": "[encoded data removed]",
      "text/plain": [
       "<Figure size 720x504 with 1 Axes>"
      ]
     },
     "metadata": {},
     "output_type": "display_data"
    }
   ],
   "source": [
    "sns.histplot(rpu.summ, color='pink')\n",
    "plt.title('Распределение выручки')\n",
    "plt.xlabel('Выручка')\n",
    "plt.ylabel('Количество пользователей')"
   ]
  },
  {
   "cell_type": "markdown",
   "metadata": {},
   "source": [
    "График ассиметричный, проверяю тестом:"
   ]
  },
  {
   "cell_type": "code",
   "execution_count": 28,
   "metadata": {},
   "outputs": [
    {
     "data": {
      "text/plain": [
       "ShapiroResult(statistic=0.9455310702323914, pvalue=6.696520782044877e-19)"
      ]
     },
     "execution_count": 28,
     "metadata": {},
     "output_type": "execute_result"
    }
   ],
   "source": [
    "shapiro(rpu.summ)"
   ]
  },
  {
   "cell_type": "markdown",
   "metadata": {},
   "source": [
    "Значение меньше 0.05, что означает ненормальное распределение переменной."
   ]
  },
  {
   "cell_type": "markdown",
   "metadata": {},
   "source": [
    "Выручка является непрерывной величиной, но распределение этой переменной ненормально, поэтому для проверки гипотезы буду использовать U-критерий Манна-Уитни:"
   ]
  },
  {
   "cell_type": "code",
   "execution_count": 29,
   "metadata": {},
   "outputs": [
    {
     "data": {
      "text/plain": [
       "MannwhitneyuResult(statistic=73198.5, pvalue=4.991032611140459e-33)"
      ]
     },
     "execution_count": 29,
     "metadata": {},
     "output_type": "execute_result"
    }
   ],
   "source": [
    "mannwhitneyu(rpu.query('group == \"control\"').summ, \n",
    "             rpu.query('group == \"experimental\"').summ)"
   ]
  },
  {
   "cell_type": "markdown",
   "metadata": {},
   "source": [
    "Значение меньше 0.05, отклоняем нулевую гипотезу."
   ]
  },
  {
   "cell_type": "markdown",
   "metadata": {},
   "source": [
    "Насколько изменилась выручка в тестовой группе по сравнению с контрольной:"
   ]
  },
  {
   "cell_type": "code",
   "execution_count": 30,
   "metadata": {},
   "outputs": [
    {
     "data": {
      "text/html": [
       "<div>\n",
       "<style scoped>\n",
       "    .dataframe tbody tr th:only-of-type {\n",
       "        vertical-align: middle;\n",
       "    }\n",
       "\n",
       "    .dataframe tbody tr th {\n",
       "        vertical-align: top;\n",
       "    }\n",
       "\n",
       "    .dataframe thead th {\n",
       "        text-align: right;\n",
       "    }\n",
       "</style>\n",
       "<table border=\"1\" class=\"dataframe\">\n",
       "  <thead>\n",
       "    <tr style=\"text-align: right;\">\n",
       "      <th></th>\n",
       "      <th>group</th>\n",
       "      <th>summ</th>\n",
       "    </tr>\n",
       "  </thead>\n",
       "  <tbody>\n",
       "    <tr>\n",
       "      <th>0</th>\n",
       "      <td>control</td>\n",
       "      <td>613488.8</td>\n",
       "    </tr>\n",
       "    <tr>\n",
       "      <th>1</th>\n",
       "      <td>experimental</td>\n",
       "      <td>929232.0</td>\n",
       "    </tr>\n",
       "  </tbody>\n",
       "</table>\n",
       "</div>"
      ],
      "text/plain": [
       "          group      summ\n",
       "0       control  613488.8\n",
       "1  experimental  929232.0"
      ]
     },
     "execution_count": 30,
     "metadata": {},
     "output_type": "execute_result"
    }
   ],
   "source": [
    "rpu \\\n",
    ".groupby('group', as_index = False) \\\n",
    ".agg({'summ': 'sum'})"
   ]
  },
  {
   "cell_type": "markdown",
   "metadata": {},
   "source": [
    "Можно заметить, что в экспериментальной это значение значительно увеличилось."
   ]
  },
  {
   "cell_type": "markdown",
   "metadata": {},
   "source": [
    "### 2. Количество заказов на пользователя"
   ]
  },
  {
   "cell_type": "markdown",
   "metadata": {},
   "source": [
    "Нулевая гипотеза: новая система рекомендаций не повлияла на количество заказов на пользователя, значимых различий между тестовой и контрольной группой нет.  \n",
    "Альтернативная гипотеза: новая система повлияла на количество заказов на пользователя, есть статистически значимые различия между группами."
   ]
  },
  {
   "cell_type": "markdown",
   "metadata": {},
   "source": [
    "Создаю датафрейм с количеством заказов на каждого пользователя и группой, к которой он принадлежит."
   ]
  },
  {
   "cell_type": "code",
   "execution_count": 31,
   "metadata": {},
   "outputs": [
    {
     "data": {
      "text/html": [
       "<div>\n",
       "<style scoped>\n",
       "    .dataframe tbody tr th:only-of-type {\n",
       "        vertical-align: middle;\n",
       "    }\n",
       "\n",
       "    .dataframe tbody tr th {\n",
       "        vertical-align: top;\n",
       "    }\n",
       "\n",
       "    .dataframe thead th {\n",
       "        text-align: right;\n",
       "    }\n",
       "</style>\n",
       "<table border=\"1\" class=\"dataframe\">\n",
       "  <thead>\n",
       "    <tr style=\"text-align: right;\">\n",
       "      <th></th>\n",
       "      <th>user_id</th>\n",
       "      <th>group</th>\n",
       "      <th>orders</th>\n",
       "    </tr>\n",
       "  </thead>\n",
       "  <tbody>\n",
       "    <tr>\n",
       "      <th>0</th>\n",
       "      <td>964</td>\n",
       "      <td>control</td>\n",
       "      <td>2</td>\n",
       "    </tr>\n",
       "    <tr>\n",
       "      <th>1</th>\n",
       "      <td>965</td>\n",
       "      <td>experimental</td>\n",
       "      <td>9</td>\n",
       "    </tr>\n",
       "    <tr>\n",
       "      <th>2</th>\n",
       "      <td>966</td>\n",
       "      <td>control</td>\n",
       "      <td>1</td>\n",
       "    </tr>\n",
       "    <tr>\n",
       "      <th>3</th>\n",
       "      <td>967</td>\n",
       "      <td>experimental</td>\n",
       "      <td>5</td>\n",
       "    </tr>\n",
       "    <tr>\n",
       "      <th>4</th>\n",
       "      <td>968</td>\n",
       "      <td>control</td>\n",
       "      <td>3</td>\n",
       "    </tr>\n",
       "    <tr>\n",
       "      <th>...</th>\n",
       "      <td>...</td>\n",
       "      <td>...</td>\n",
       "      <td>...</td>\n",
       "    </tr>\n",
       "    <tr>\n",
       "      <th>1012</th>\n",
       "      <td>1976</td>\n",
       "      <td>experimental</td>\n",
       "      <td>5</td>\n",
       "    </tr>\n",
       "    <tr>\n",
       "      <th>1013</th>\n",
       "      <td>1977</td>\n",
       "      <td>experimental</td>\n",
       "      <td>4</td>\n",
       "    </tr>\n",
       "    <tr>\n",
       "      <th>1014</th>\n",
       "      <td>1978</td>\n",
       "      <td>experimental</td>\n",
       "      <td>7</td>\n",
       "    </tr>\n",
       "    <tr>\n",
       "      <th>1015</th>\n",
       "      <td>1979</td>\n",
       "      <td>experimental</td>\n",
       "      <td>6</td>\n",
       "    </tr>\n",
       "    <tr>\n",
       "      <th>1016</th>\n",
       "      <td>1980</td>\n",
       "      <td>experimental</td>\n",
       "      <td>7</td>\n",
       "    </tr>\n",
       "  </tbody>\n",
       "</table>\n",
       "<p>1017 rows × 3 columns</p>\n",
       "</div>"
      ],
      "text/plain": [
       "      user_id         group  orders\n",
       "0         964       control       2\n",
       "1         965  experimental       9\n",
       "2         966       control       1\n",
       "3         967  experimental       5\n",
       "4         968       control       3\n",
       "...       ...           ...     ...\n",
       "1012     1976  experimental       5\n",
       "1013     1977  experimental       4\n",
       "1014     1978  experimental       7\n",
       "1015     1979  experimental       6\n",
       "1016     1980  experimental       7\n",
       "\n",
       "[1017 rows x 3 columns]"
      ]
     },
     "execution_count": 31,
     "metadata": {},
     "output_type": "execute_result"
    }
   ],
   "source": [
    "orders_by_user = df \\\n",
    ".groupby(['user_id', 'group'], as_index = False) \\\n",
    ".agg({'order_id': 'count'}) \\\n",
    ".rename(columns={'order_id': 'orders'})\n",
    "orders_by_user"
   ]
  },
  {
   "cell_type": "markdown",
   "metadata": {},
   "source": [
    "Визуализация распределения:"
   ]
  },
  {
   "cell_type": "code",
   "execution_count": 32,
   "metadata": {},
   "outputs": [
    {
     "name": "stderr",
     "output_type": "stream",
     "text": [
      "/opt/tljh/user/lib/python3.7/site-packages/seaborn/_decorators.py:43: FutureWarning: Pass the following variable as a keyword arg: x. From version 0.12, the only valid positional argument will be `data`, and passing other arguments without an explicit keyword will result in an error or misinterpretation.\n",
      "  FutureWarning\n"
     ]
    },
    {
     "data": {
      "text/plain": [
       "Text(0, 0.5, 'Количество пользователей')"
      ]
     },
     "execution_count": 32,
     "metadata": {},
     "output_type": "execute_result"
    },
    {
     "data": {
      "image/png": "[encoded data removed]",
      "text/plain": [
       "<Figure size 720x504 with 1 Axes>"
      ]
     },
     "metadata": {},
     "output_type": "display_data"
    }
   ],
   "source": [
    "sns.countplot(orders_by_user.orders, color='pink')\n",
    "plt.title('Распределение заказов')\n",
    "plt.xlabel('Количество заказов')\n",
    "plt.ylabel('Количество пользователей')"
   ]
  },
  {
   "cell_type": "markdown",
   "metadata": {},
   "source": [
    "Распределение очевидно ненормальное, можно дополнительно подтвердить это тестом:"
   ]
  },
  {
   "cell_type": "code",
   "execution_count": 33,
   "metadata": {},
   "outputs": [
    {
     "data": {
      "text/plain": [
       "ShapiroResult(statistic=0.9277693033218384, pvalue=1.0314129396259515e-21)"
      ]
     },
     "execution_count": 33,
     "metadata": {},
     "output_type": "execute_result"
    }
   ],
   "source": [
    "shapiro(orders_by_user.orders)"
   ]
  },
  {
   "cell_type": "markdown",
   "metadata": {},
   "source": [
    "Поэтому снова использую критерий Манна-Уитни для сравнения количества заказов между тестовой и контрольной группами:"
   ]
  },
  {
   "cell_type": "code",
   "execution_count": 34,
   "metadata": {},
   "outputs": [
    {
     "data": {
      "text/plain": [
       "MannwhitneyuResult(statistic=61172.5, pvalue=6.987139829766148e-49)"
      ]
     },
     "execution_count": 34,
     "metadata": {},
     "output_type": "execute_result"
    }
   ],
   "source": [
    "mannwhitneyu(orders_by_user.query('group == \"control\"').orders, \n",
    "             orders_by_user.query('group == \"experimental\"').orders)"
   ]
  },
  {
   "cell_type": "markdown",
   "metadata": {},
   "source": [
    "Значение меньше 0.05, что позволяет отклонить нулевую гипотезу."
   ]
  },
  {
   "cell_type": "markdown",
   "metadata": {},
   "source": [
    "Насколько изменилось количество заказов в тестовой группе:"
   ]
  },
  {
   "cell_type": "code",
   "execution_count": 35,
   "metadata": {},
   "outputs": [
    {
     "data": {
      "text/html": [
       "<div>\n",
       "<style scoped>\n",
       "    .dataframe tbody tr th:only-of-type {\n",
       "        vertical-align: middle;\n",
       "    }\n",
       "\n",
       "    .dataframe tbody tr th {\n",
       "        vertical-align: top;\n",
       "    }\n",
       "\n",
       "    .dataframe thead th {\n",
       "        text-align: right;\n",
       "    }\n",
       "</style>\n",
       "<table border=\"1\" class=\"dataframe\">\n",
       "  <thead>\n",
       "    <tr style=\"text-align: right;\">\n",
       "      <th></th>\n",
       "      <th>group</th>\n",
       "      <th>orders</th>\n",
       "    </tr>\n",
       "  </thead>\n",
       "  <tbody>\n",
       "    <tr>\n",
       "      <th>0</th>\n",
       "      <td>control</td>\n",
       "      <td>1609</td>\n",
       "    </tr>\n",
       "    <tr>\n",
       "      <th>1</th>\n",
       "      <td>experimental</td>\n",
       "      <td>2514</td>\n",
       "    </tr>\n",
       "  </tbody>\n",
       "</table>\n",
       "</div>"
      ],
      "text/plain": [
       "          group  orders\n",
       "0       control    1609\n",
       "1  experimental    2514"
      ]
     },
     "execution_count": 35,
     "metadata": {},
     "output_type": "execute_result"
    }
   ],
   "source": [
    "orders_by_user \\\n",
    ".groupby('group', as_index = False) \\\n",
    ".agg({'orders': 'sum'})"
   ]
  },
  {
   "cell_type": "markdown",
   "metadata": {},
   "source": [
    "*А/Б-тест показал статистически значимые различий между метриками, нужными для бизнеса и пользователей.  \n",
    "Средний чек увеличился, и количество заказов на пользователей тоже выросло.  \n",
    "Новая система смогла принести пользу, есть основания включить её на всех пользователей.*"
   ]
  }
 ],
 "metadata": {
  "kernelspec": {
   "display_name": "Python 3",
   "language": "python",
   "name": "python3"
  },
  "language_info": {
   "codemirror_mode": {
    "name": "ipython",
    "version": 3
   },
   "file_extension": ".py",
   "mimetype": "text/x-python",
   "name": "python",
   "nbconvert_exporter": "python",
   "pygments_lexer": "ipython3",
   "version": "3.7.3"
  }
 },
 "nbformat": 4,
 "nbformat_minor": 4
}
